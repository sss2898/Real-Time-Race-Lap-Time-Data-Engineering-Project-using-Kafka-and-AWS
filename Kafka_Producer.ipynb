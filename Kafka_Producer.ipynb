{
 "cells": [
  {
   "cell_type": "code",
   "execution_count": 1,
   "id": "729a699d-9585-4c25-b736-e973fc80342b",
   "metadata": {},
   "outputs": [
    {
     "name": "stdout",
     "output_type": "stream",
     "text": [
      "Collecting kafka-python\n",
      "  Downloading kafka_python-2.1.4-py2.py3-none-any.whl.metadata (9.1 kB)\n",
      "Downloading kafka_python-2.1.4-py2.py3-none-any.whl (276 kB)\n",
      "   ---------------------------------------- 0.0/276.6 kB ? eta -:--:--\n",
      "   ---------------------------------------- 0.0/276.6 kB ? eta -:--:--\n",
      "   - -------------------------------------- 10.2/276.6 kB ? eta -:--:--\n",
      "   ---- ---------------------------------- 30.7/276.6 kB 217.9 kB/s eta 0:00:02\n",
      "   -------- ------------------------------ 61.4/276.6 kB 363.1 kB/s eta 0:00:01\n",
      "   ------------------- ------------------ 143.4/276.6 kB 711.9 kB/s eta 0:00:01\n",
      "   ---------------------------------------  276.5/276.6 kB 1.1 MB/s eta 0:00:01\n",
      "   ---------------------------------------- 276.6/276.6 kB 1.1 MB/s eta 0:00:00\n",
      "Installing collected packages: kafka-python\n",
      "Successfully installed kafka-python-2.1.4\n",
      "Note: you may need to restart the kernel to use updated packages.\n"
     ]
    }
   ],
   "source": [
    "pip install kafka-python"
   ]
  },
  {
   "cell_type": "code",
   "execution_count": 1,
   "id": "d5e6627d-0f03-4f4c-82c3-43ea60cc055c",
   "metadata": {},
   "outputs": [],
   "source": [
    "import pandas as pd\n",
    "from kafka import KafkaProducer\n",
    "from time import sleep\n",
    "from json import dumps\n",
    "import json"
   ]
  },
  {
   "cell_type": "code",
   "execution_count": 3,
   "id": "b931d191-32c7-4ca2-868b-f88d23860349",
   "metadata": {},
   "outputs": [],
   "source": [
    "producer = KafkaProducer(bootstrap_servers=['{your Publlic IP}:9092'], #change ip here\n",
    "                         value_serializer=lambda x: \n",
    "                         dumps(x).encode('utf-8'))"
   ]
  },
  {
   "cell_type": "code",
   "execution_count": 5,
   "id": "0af51833-a1c1-4db0-8780-a681e02d1d0f",
   "metadata": {},
   "outputs": [
    {
     "data": {
      "text/plain": [
       "<kafka.producer.future.FutureRecordMetadata at 0x1a2c65a8440>"
      ]
     },
     "execution_count": 5,
     "metadata": {},
     "output_type": "execute_result"
    }
   ],
   "source": [
    "producer.send('demo_test',value=\"{'nckjvnac':'bvcjhc'}\")"
   ]
  },
  {
   "cell_type": "code",
   "execution_count": 7,
   "id": "35aba9a9-dda5-447b-9572-332f2f0d4d74",
   "metadata": {},
   "outputs": [],
   "source": [
    "df=pd.read_csv(\"lap_times_with_precise_milliseconds.csv\")"
   ]
  },
  {
   "cell_type": "code",
   "execution_count": 9,
   "id": "b029524f-5daa-4022-be9d-d71b10afb9ac",
   "metadata": {},
   "outputs": [
    {
     "data": {
      "text/html": [
       "<div>\n",
       "<style scoped>\n",
       "    .dataframe tbody tr th:only-of-type {\n",
       "        vertical-align: middle;\n",
       "    }\n",
       "\n",
       "    .dataframe tbody tr th {\n",
       "        vertical-align: top;\n",
       "    }\n",
       "\n",
       "    .dataframe thead th {\n",
       "        text-align: right;\n",
       "    }\n",
       "</style>\n",
       "<table border=\"1\" class=\"dataframe\">\n",
       "  <thead>\n",
       "    <tr style=\"text-align: right;\">\n",
       "      <th></th>\n",
       "      <th>timestamp</th>\n",
       "      <th>driver_id</th>\n",
       "      <th>driver_name</th>\n",
       "      <th>lap_number</th>\n",
       "      <th>lap_time_sec</th>\n",
       "      <th>cumulative_time_sec</th>\n",
       "      <th>position</th>\n",
       "      <th>lap_time_formatted</th>\n",
       "    </tr>\n",
       "  </thead>\n",
       "  <tbody>\n",
       "    <tr>\n",
       "      <th>0</th>\n",
       "      <td>2025-04-04 17:24:24</td>\n",
       "      <td>5</td>\n",
       "      <td>Carlos Sainz</td>\n",
       "      <td>1</td>\n",
       "      <td>86.38</td>\n",
       "      <td>86.38</td>\n",
       "      <td>1</td>\n",
       "      <td>01:26.380</td>\n",
       "    </tr>\n",
       "    <tr>\n",
       "      <th>1</th>\n",
       "      <td>2025-04-04 17:24:37</td>\n",
       "      <td>18</td>\n",
       "      <td>Oscar Piastri</td>\n",
       "      <td>1</td>\n",
       "      <td>87.12</td>\n",
       "      <td>87.12</td>\n",
       "      <td>2</td>\n",
       "      <td>01:27.120</td>\n",
       "    </tr>\n",
       "    <tr>\n",
       "      <th>2</th>\n",
       "      <td>2025-04-04 17:24:26</td>\n",
       "      <td>7</td>\n",
       "      <td>Fernando Alonso</td>\n",
       "      <td>1</td>\n",
       "      <td>88.19</td>\n",
       "      <td>88.19</td>\n",
       "      <td>3</td>\n",
       "      <td>01:28.190</td>\n",
       "    </tr>\n",
       "    <tr>\n",
       "      <th>3</th>\n",
       "      <td>2025-04-04 17:24:31</td>\n",
       "      <td>12</td>\n",
       "      <td>Kevin Magnussen</td>\n",
       "      <td>1</td>\n",
       "      <td>88.53</td>\n",
       "      <td>88.53</td>\n",
       "      <td>4</td>\n",
       "      <td>01:28.530</td>\n",
       "    </tr>\n",
       "    <tr>\n",
       "      <th>4</th>\n",
       "      <td>2025-04-04 17:24:32</td>\n",
       "      <td>13</td>\n",
       "      <td>Yuki Tsunoda</td>\n",
       "      <td>1</td>\n",
       "      <td>89.10</td>\n",
       "      <td>89.10</td>\n",
       "      <td>5</td>\n",
       "      <td>01:29.100</td>\n",
       "    </tr>\n",
       "  </tbody>\n",
       "</table>\n",
       "</div>"
      ],
      "text/plain": [
       "             timestamp  driver_id      driver_name  lap_number  lap_time_sec  \\\n",
       "0  2025-04-04 17:24:24          5     Carlos Sainz           1         86.38   \n",
       "1  2025-04-04 17:24:37         18    Oscar Piastri           1         87.12   \n",
       "2  2025-04-04 17:24:26          7  Fernando Alonso           1         88.19   \n",
       "3  2025-04-04 17:24:31         12  Kevin Magnussen           1         88.53   \n",
       "4  2025-04-04 17:24:32         13     Yuki Tsunoda           1         89.10   \n",
       "\n",
       "   cumulative_time_sec  position lap_time_formatted  \n",
       "0                86.38         1          01:26.380  \n",
       "1                87.12         2          01:27.120  \n",
       "2                88.19         3          01:28.190  \n",
       "3                88.53         4          01:28.530  \n",
       "4                89.10         5          01:29.100  "
      ]
     },
     "execution_count": 9,
     "metadata": {},
     "output_type": "execute_result"
    }
   ],
   "source": [
    "df.head()"
   ]
  },
  {
   "cell_type": "code",
   "execution_count": 11,
   "id": "216953c8-a4fc-4d86-b166-35339cd2aa24",
   "metadata": {},
   "outputs": [
    {
     "data": {
      "text/plain": [
       "{'timestamp': '2025-04-04 17:51:06',\n",
       " 'driver_id': 7,\n",
       " 'driver_name': 'Fernando Alonso',\n",
       " 'lap_number': 41,\n",
       " 'lap_time_sec': 94.69,\n",
       " 'cumulative_time_sec': 3760.66,\n",
       " 'position': 4,\n",
       " 'lap_time_formatted': '01:34.690'}"
      ]
     },
     "execution_count": 11,
     "metadata": {},
     "output_type": "execute_result"
    }
   ],
   "source": [
    "df.sample(1).to_dict(orient=\"records\")[0]"
   ]
  },
  {
   "cell_type": "code",
   "execution_count": 13,
   "id": "6c7806f0-83b8-4f22-aeef-891dd5bd48b3",
   "metadata": {},
   "outputs": [
    {
     "ename": "KeyboardInterrupt",
     "evalue": "",
     "output_type": "error",
     "traceback": [
      "\u001b[1;31m---------------------------------------------------------------------------\u001b[0m",
      "\u001b[1;31mKeyboardInterrupt\u001b[0m                         Traceback (most recent call last)",
      "Cell \u001b[1;32mIn[13], line 4\u001b[0m\n\u001b[0;32m      2\u001b[0m dict_lap_time\u001b[38;5;241m=\u001b[39mdf\u001b[38;5;241m.\u001b[39msample(\u001b[38;5;241m1\u001b[39m)\u001b[38;5;241m.\u001b[39mto_dict(orient\u001b[38;5;241m=\u001b[39m\u001b[38;5;124m\"\u001b[39m\u001b[38;5;124mrecords\u001b[39m\u001b[38;5;124m\"\u001b[39m)[\u001b[38;5;241m0\u001b[39m]\n\u001b[0;32m      3\u001b[0m producer\u001b[38;5;241m.\u001b[39msend(\u001b[38;5;124m'\u001b[39m\u001b[38;5;124mdemo_test\u001b[39m\u001b[38;5;124m'\u001b[39m,value\u001b[38;5;241m=\u001b[39mdict_lap_time)\n\u001b[1;32m----> 4\u001b[0m sleep(\u001b[38;5;241m1\u001b[39m)\n",
      "\u001b[1;31mKeyboardInterrupt\u001b[0m: "
     ]
    }
   ],
   "source": [
    "while True:\n",
    "    dict_lap_time=df.sample(1).to_dict(orient=\"records\")[0]\n",
    "    producer.send('demo_test',value=dict_lap_time)\n",
    "    sleep(1)"
   ]
  },
  {
   "cell_type": "code",
   "execution_count": 80,
   "id": "7ca35aab-ff81-457a-a244-ea914b3c4cbf",
   "metadata": {},
   "outputs": [],
   "source": [
    "producer.flush()"
   ]
  },
  {
   "cell_type": "code",
   "execution_count": null,
   "id": "ae973e22-967b-4882-b6e7-9fd29eb20bd3",
   "metadata": {},
   "outputs": [],
   "source": []
  }
 ],
 "metadata": {
  "kernelspec": {
   "display_name": "Python 3 (ipykernel)",
   "language": "python",
   "name": "python3"
  },
  "language_info": {
   "codemirror_mode": {
    "name": "ipython",
    "version": 3
   },
   "file_extension": ".py",
   "mimetype": "text/x-python",
   "name": "python",
   "nbconvert_exporter": "python",
   "pygments_lexer": "ipython3",
   "version": "3.12.4"
  }
 },
 "nbformat": 4,
 "nbformat_minor": 5
}
